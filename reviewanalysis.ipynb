{
 "cells": [
  {
   "cell_type": "code",
   "execution_count": 1,
   "id": "66e67810",
   "metadata": {
    "execution": {
     "iopub.execute_input": "2023-01-29T16:44:15.073088Z",
     "iopub.status.busy": "2023-01-29T16:44:15.072602Z",
     "iopub.status.idle": "2023-01-29T16:44:15.082618Z",
     "shell.execute_reply": "2023-01-29T16:44:15.081537Z"
    },
    "id": "d09cbd09-d3a4-43d1-95d2-b14f1bcb42a0",
    "papermill": {
     "duration": 0.024201,
     "end_time": "2023-01-29T16:44:15.085253",
     "exception": false,
     "start_time": "2023-01-29T16:44:15.061052",
     "status": "completed"
    },
    "tags": []
   },
   "outputs": [],
   "source": [
    "import pandas as pd\n",
    "import numpy as np"
   ]
  },
  {
   "cell_type": "code",
   "execution_count": 2,
   "id": "7037d139",
   "metadata": {
    "execution": {
     "iopub.execute_input": "2023-01-29T16:44:15.104418Z",
     "iopub.status.busy": "2023-01-29T16:44:15.104004Z",
     "iopub.status.idle": "2023-01-29T16:44:15.124626Z",
     "shell.execute_reply": "2023-01-29T16:44:15.123607Z"
    },
    "id": "f2e7aa9a-e489-4a24-af16-66f251e17fed",
    "papermill": {
     "duration": 0.033125,
     "end_time": "2023-01-29T16:44:15.127151",
     "exception": false,
     "start_time": "2023-01-29T16:44:15.094026",
     "status": "completed"
    },
    "tags": []
   },
   "outputs": [],
   "source": [
    "datasets = pd.read_csv(\"/kaggle/input/resturant-reviews/Restaurant_Reviews.tsv\", sep = \"\\t\")"
   ]
  },
  {
   "cell_type": "code",
   "execution_count": 3,
   "id": "7dcc7f4d",
   "metadata": {
    "execution": {
     "iopub.execute_input": "2023-01-29T16:44:15.146026Z",
     "iopub.status.busy": "2023-01-29T16:44:15.145536Z",
     "iopub.status.idle": "2023-01-29T16:44:15.170805Z",
     "shell.execute_reply": "2023-01-29T16:44:15.169690Z"
    },
    "id": "f1ea8f15-fe6e-40ab-acf6-301dcc9b6e36",
    "outputId": "4aac4259-e12f-472c-d466-e21e7f43b5af",
    "papermill": {
     "duration": 0.0382,
     "end_time": "2023-01-29T16:44:15.173787",
     "exception": false,
     "start_time": "2023-01-29T16:44:15.135587",
     "status": "completed"
    },
    "tags": []
   },
   "outputs": [
    {
     "data": {
      "text/html": [
       "<div>\n",
       "<style scoped>\n",
       "    .dataframe tbody tr th:only-of-type {\n",
       "        vertical-align: middle;\n",
       "    }\n",
       "\n",
       "    .dataframe tbody tr th {\n",
       "        vertical-align: top;\n",
       "    }\n",
       "\n",
       "    .dataframe thead th {\n",
       "        text-align: right;\n",
       "    }\n",
       "</style>\n",
       "<table border=\"1\" class=\"dataframe\">\n",
       "  <thead>\n",
       "    <tr style=\"text-align: right;\">\n",
       "      <th></th>\n",
       "      <th>Review</th>\n",
       "      <th>Liked</th>\n",
       "    </tr>\n",
       "  </thead>\n",
       "  <tbody>\n",
       "    <tr>\n",
       "      <th>0</th>\n",
       "      <td>Wow... Loved this place.</td>\n",
       "      <td>1</td>\n",
       "    </tr>\n",
       "    <tr>\n",
       "      <th>1</th>\n",
       "      <td>Crust is not good.</td>\n",
       "      <td>0</td>\n",
       "    </tr>\n",
       "    <tr>\n",
       "      <th>2</th>\n",
       "      <td>Not tasty and the texture was just nasty.</td>\n",
       "      <td>0</td>\n",
       "    </tr>\n",
       "    <tr>\n",
       "      <th>3</th>\n",
       "      <td>Stopped by during the late May bank holiday of...</td>\n",
       "      <td>1</td>\n",
       "    </tr>\n",
       "    <tr>\n",
       "      <th>4</th>\n",
       "      <td>The selection on the menu was great and so wer...</td>\n",
       "      <td>1</td>\n",
       "    </tr>\n",
       "  </tbody>\n",
       "</table>\n",
       "</div>"
      ],
      "text/plain": [
       "                                              Review  Liked\n",
       "0                           Wow... Loved this place.      1\n",
       "1                                 Crust is not good.      0\n",
       "2          Not tasty and the texture was just nasty.      0\n",
       "3  Stopped by during the late May bank holiday of...      1\n",
       "4  The selection on the menu was great and so wer...      1"
      ]
     },
     "execution_count": 3,
     "metadata": {},
     "output_type": "execute_result"
    }
   ],
   "source": [
    "datasets.head()"
   ]
  },
  {
   "cell_type": "code",
   "execution_count": 4,
   "id": "3b02c8a7",
   "metadata": {
    "execution": {
     "iopub.execute_input": "2023-01-29T16:44:15.193369Z",
     "iopub.status.busy": "2023-01-29T16:44:15.192230Z",
     "iopub.status.idle": "2023-01-29T16:44:15.202349Z",
     "shell.execute_reply": "2023-01-29T16:44:15.201258Z"
    },
    "id": "0ec7c395-8312-4fac-857c-5cdad7122c5d",
    "outputId": "7ffd3232-28f2-4df7-91ad-54818017145d",
    "papermill": {
     "duration": 0.022461,
     "end_time": "2023-01-29T16:44:15.204861",
     "exception": false,
     "start_time": "2023-01-29T16:44:15.182400",
     "status": "completed"
    },
    "tags": []
   },
   "outputs": [
    {
     "data": {
      "text/html": [
       "<div>\n",
       "<style scoped>\n",
       "    .dataframe tbody tr th:only-of-type {\n",
       "        vertical-align: middle;\n",
       "    }\n",
       "\n",
       "    .dataframe tbody tr th {\n",
       "        vertical-align: top;\n",
       "    }\n",
       "\n",
       "    .dataframe thead th {\n",
       "        text-align: right;\n",
       "    }\n",
       "</style>\n",
       "<table border=\"1\" class=\"dataframe\">\n",
       "  <thead>\n",
       "    <tr style=\"text-align: right;\">\n",
       "      <th></th>\n",
       "      <th>Review</th>\n",
       "      <th>Liked</th>\n",
       "    </tr>\n",
       "  </thead>\n",
       "  <tbody>\n",
       "    <tr>\n",
       "      <th>995</th>\n",
       "      <td>I think food should have flavor and texture an...</td>\n",
       "      <td>0</td>\n",
       "    </tr>\n",
       "    <tr>\n",
       "      <th>996</th>\n",
       "      <td>Appetite instantly gone.</td>\n",
       "      <td>0</td>\n",
       "    </tr>\n",
       "    <tr>\n",
       "      <th>997</th>\n",
       "      <td>Overall I was not impressed and would not go b...</td>\n",
       "      <td>0</td>\n",
       "    </tr>\n",
       "    <tr>\n",
       "      <th>998</th>\n",
       "      <td>The whole experience was underwhelming, and I ...</td>\n",
       "      <td>0</td>\n",
       "    </tr>\n",
       "    <tr>\n",
       "      <th>999</th>\n",
       "      <td>Then, as if I hadn't wasted enough of my life ...</td>\n",
       "      <td>0</td>\n",
       "    </tr>\n",
       "  </tbody>\n",
       "</table>\n",
       "</div>"
      ],
      "text/plain": [
       "                                                Review  Liked\n",
       "995  I think food should have flavor and texture an...      0\n",
       "996                           Appetite instantly gone.      0\n",
       "997  Overall I was not impressed and would not go b...      0\n",
       "998  The whole experience was underwhelming, and I ...      0\n",
       "999  Then, as if I hadn't wasted enough of my life ...      0"
      ]
     },
     "execution_count": 4,
     "metadata": {},
     "output_type": "execute_result"
    }
   ],
   "source": [
    "datasets.tail()"
   ]
  },
  {
   "cell_type": "code",
   "execution_count": 5,
   "id": "7bbccffc",
   "metadata": {
    "execution": {
     "iopub.execute_input": "2023-01-29T16:44:15.224286Z",
     "iopub.status.busy": "2023-01-29T16:44:15.223835Z",
     "iopub.status.idle": "2023-01-29T16:44:15.231549Z",
     "shell.execute_reply": "2023-01-29T16:44:15.230220Z"
    },
    "id": "bc69f672-c296-485f-ba3c-623778aa399f",
    "outputId": "9e5d55aa-ecea-4ff4-8ced-961478874f24",
    "papermill": {
     "duration": 0.020375,
     "end_time": "2023-01-29T16:44:15.234131",
     "exception": false,
     "start_time": "2023-01-29T16:44:15.213756",
     "status": "completed"
    },
    "tags": []
   },
   "outputs": [
    {
     "data": {
      "text/plain": [
       "Index(['Review', 'Liked'], dtype='object')"
      ]
     },
     "execution_count": 5,
     "metadata": {},
     "output_type": "execute_result"
    }
   ],
   "source": [
    "datasets.columns"
   ]
  },
  {
   "cell_type": "code",
   "execution_count": 6,
   "id": "2ed515d5",
   "metadata": {
    "execution": {
     "iopub.execute_input": "2023-01-29T16:44:15.254407Z",
     "iopub.status.busy": "2023-01-29T16:44:15.253543Z",
     "iopub.status.idle": "2023-01-29T16:44:15.277875Z",
     "shell.execute_reply": "2023-01-29T16:44:15.276389Z"
    },
    "id": "09e139bc-4fbc-46ee-b487-3a7f5a942d3b",
    "outputId": "f6e509c4-4844-4a76-f6d9-b1e87a3885f7",
    "papermill": {
     "duration": 0.037184,
     "end_time": "2023-01-29T16:44:15.280498",
     "exception": false,
     "start_time": "2023-01-29T16:44:15.243314",
     "status": "completed"
    },
    "tags": []
   },
   "outputs": [
    {
     "name": "stdout",
     "output_type": "stream",
     "text": [
      "<class 'pandas.core.frame.DataFrame'>\n",
      "RangeIndex: 1000 entries, 0 to 999\n",
      "Data columns (total 2 columns):\n",
      " #   Column  Non-Null Count  Dtype \n",
      "---  ------  --------------  ----- \n",
      " 0   Review  1000 non-null   object\n",
      " 1   Liked   1000 non-null   int64 \n",
      "dtypes: int64(1), object(1)\n",
      "memory usage: 15.8+ KB\n"
     ]
    }
   ],
   "source": [
    "datasets.info()"
   ]
  },
  {
   "cell_type": "code",
   "execution_count": 7,
   "id": "23373daa",
   "metadata": {
    "execution": {
     "iopub.execute_input": "2023-01-29T16:44:15.300635Z",
     "iopub.status.busy": "2023-01-29T16:44:15.300258Z",
     "iopub.status.idle": "2023-01-29T16:44:15.304505Z",
     "shell.execute_reply": "2023-01-29T16:44:15.303307Z"
    },
    "id": "bf86702b-bed8-4300-aee4-453fa5f1d526",
    "papermill": {
     "duration": 0.017256,
     "end_time": "2023-01-29T16:44:15.306812",
     "exception": false,
     "start_time": "2023-01-29T16:44:15.289556",
     "status": "completed"
    },
    "tags": []
   },
   "outputs": [],
   "source": [
    "#datasets.dropna()\n",
    "#datasets.isnull()"
   ]
  },
  {
   "cell_type": "code",
   "execution_count": 8,
   "id": "6e3ec70d",
   "metadata": {
    "execution": {
     "iopub.execute_input": "2023-01-29T16:44:15.327456Z",
     "iopub.status.busy": "2023-01-29T16:44:15.327081Z",
     "iopub.status.idle": "2023-01-29T16:44:15.343409Z",
     "shell.execute_reply": "2023-01-29T16:44:15.342207Z"
    },
    "id": "984cb1f9-e0fe-4e33-be00-223f23b1b1df",
    "outputId": "e47fced8-2bce-4432-974e-a4d5325b045a",
    "papermill": {
     "duration": 0.028795,
     "end_time": "2023-01-29T16:44:15.345584",
     "exception": false,
     "start_time": "2023-01-29T16:44:15.316789",
     "status": "completed"
    },
    "tags": []
   },
   "outputs": [
    {
     "data": {
      "text/html": [
       "<div>\n",
       "<style scoped>\n",
       "    .dataframe tbody tr th:only-of-type {\n",
       "        vertical-align: middle;\n",
       "    }\n",
       "\n",
       "    .dataframe tbody tr th {\n",
       "        vertical-align: top;\n",
       "    }\n",
       "\n",
       "    .dataframe thead th {\n",
       "        text-align: right;\n",
       "    }\n",
       "</style>\n",
       "<table border=\"1\" class=\"dataframe\">\n",
       "  <thead>\n",
       "    <tr style=\"text-align: right;\">\n",
       "      <th></th>\n",
       "      <th>Liked</th>\n",
       "    </tr>\n",
       "  </thead>\n",
       "  <tbody>\n",
       "    <tr>\n",
       "      <th>count</th>\n",
       "      <td>1000.00000</td>\n",
       "    </tr>\n",
       "    <tr>\n",
       "      <th>mean</th>\n",
       "      <td>0.50000</td>\n",
       "    </tr>\n",
       "    <tr>\n",
       "      <th>std</th>\n",
       "      <td>0.50025</td>\n",
       "    </tr>\n",
       "    <tr>\n",
       "      <th>min</th>\n",
       "      <td>0.00000</td>\n",
       "    </tr>\n",
       "    <tr>\n",
       "      <th>25%</th>\n",
       "      <td>0.00000</td>\n",
       "    </tr>\n",
       "    <tr>\n",
       "      <th>50%</th>\n",
       "      <td>0.50000</td>\n",
       "    </tr>\n",
       "    <tr>\n",
       "      <th>75%</th>\n",
       "      <td>1.00000</td>\n",
       "    </tr>\n",
       "    <tr>\n",
       "      <th>max</th>\n",
       "      <td>1.00000</td>\n",
       "    </tr>\n",
       "  </tbody>\n",
       "</table>\n",
       "</div>"
      ],
      "text/plain": [
       "            Liked\n",
       "count  1000.00000\n",
       "mean      0.50000\n",
       "std       0.50025\n",
       "min       0.00000\n",
       "25%       0.00000\n",
       "50%       0.50000\n",
       "75%       1.00000\n",
       "max       1.00000"
      ]
     },
     "execution_count": 8,
     "metadata": {},
     "output_type": "execute_result"
    }
   ],
   "source": [
    "datasets.describe()"
   ]
  },
  {
   "cell_type": "code",
   "execution_count": 9,
   "id": "fede6a1a",
   "metadata": {
    "execution": {
     "iopub.execute_input": "2023-01-29T16:44:15.365766Z",
     "iopub.status.busy": "2023-01-29T16:44:15.365092Z",
     "iopub.status.idle": "2023-01-29T16:44:16.943226Z",
     "shell.execute_reply": "2023-01-29T16:44:16.942172Z"
    },
    "id": "66ccc39e-8b9f-4a0a-8565-18d533f3d9b4",
    "outputId": "35c1c7ed-334d-41eb-b589-badb7914da91",
    "papermill": {
     "duration": 1.591589,
     "end_time": "2023-01-29T16:44:16.946141",
     "exception": false,
     "start_time": "2023-01-29T16:44:15.354552",
     "status": "completed"
    },
    "tags": []
   },
   "outputs": [
    {
     "name": "stderr",
     "output_type": "stream",
     "text": [
      "[nltk_data] Downloading package stopwords to /usr/share/nltk_data...\n",
      "[nltk_data]   Package stopwords is already up-to-date!\n"
     ]
    }
   ],
   "source": [
    "import nltk\n",
    "import re # Regular Expression\n",
    "nltk.download(\"stopwords\")\n",
    "from nltk.corpus import stopwords\n",
    "from nltk.stem.porter import PorterStemmer"
   ]
  },
  {
   "cell_type": "code",
   "execution_count": 10,
   "id": "3848cbc0",
   "metadata": {
    "execution": {
     "iopub.execute_input": "2023-01-29T16:44:16.967051Z",
     "iopub.status.busy": "2023-01-29T16:44:16.966271Z",
     "iopub.status.idle": "2023-01-29T16:44:18.908126Z",
     "shell.execute_reply": "2023-01-29T16:44:18.906980Z"
    },
    "id": "a686f3f0-e7e3-48b0-ab9d-a82b5c0bf08a",
    "papermill": {
     "duration": 1.955188,
     "end_time": "2023-01-29T16:44:18.911152",
     "exception": false,
     "start_time": "2023-01-29T16:44:16.955964",
     "status": "completed"
    },
    "tags": []
   },
   "outputs": [],
   "source": [
    "corpus = []\n",
    "\n",
    "for i in range(0, 1000):\n",
    "    review = re.sub(pattern='[^a-zA-Z]',repl  = \" \", string = datasets['Review'][i])\n",
    "    \n",
    "    review = review.lower()\n",
    "    \n",
    "    review_words = review.split()\n",
    "    review_words = [word for word in review_words if not word in set(stopwords.words(\"english\"))]\n",
    "    \n",
    "    ps = PorterStemmer()\n",
    "    review = [ps.stem(word) for word in review_words]\n",
    "    \n",
    "    review = ' '.join(review)\n",
    "    \n",
    "    corpus.append(review)"
   ]
  },
  {
   "cell_type": "code",
   "execution_count": 11,
   "id": "02494365",
   "metadata": {
    "execution": {
     "iopub.execute_input": "2023-01-29T16:44:18.932473Z",
     "iopub.status.busy": "2023-01-29T16:44:18.931337Z",
     "iopub.status.idle": "2023-01-29T16:44:18.937894Z",
     "shell.execute_reply": "2023-01-29T16:44:18.937011Z"
    },
    "id": "77f24ec1-dba2-47cb-9e47-40de0c905a5a",
    "outputId": "79b7624b-3299-4d73-ed14-34ccbc40145d",
    "papermill": {
     "duration": 0.019097,
     "end_time": "2023-01-29T16:44:18.939946",
     "exception": false,
     "start_time": "2023-01-29T16:44:18.920849",
     "status": "completed"
    },
    "tags": []
   },
   "outputs": [
    {
     "data": {
      "text/plain": [
       "['wow love place',\n",
       " 'crust good',\n",
       " 'tasti textur nasti',\n",
       " 'stop late may bank holiday rick steve recommend love',\n",
       " 'select menu great price']"
      ]
     },
     "execution_count": 11,
     "metadata": {},
     "output_type": "execute_result"
    }
   ],
   "source": [
    "corpus[0:5]"
   ]
  },
  {
   "cell_type": "code",
   "execution_count": 12,
   "id": "12c2b859",
   "metadata": {
    "execution": {
     "iopub.execute_input": "2023-01-29T16:44:18.960590Z",
     "iopub.status.busy": "2023-01-29T16:44:18.959810Z",
     "iopub.status.idle": "2023-01-29T16:44:18.964856Z",
     "shell.execute_reply": "2023-01-29T16:44:18.963866Z"
    },
    "id": "2853993e-53fe-4656-b04f-bd8d1e9e84bc",
    "papermill": {
     "duration": 0.01776,
     "end_time": "2023-01-29T16:44:18.967110",
     "exception": false,
     "start_time": "2023-01-29T16:44:18.949350",
     "status": "completed"
    },
    "tags": []
   },
   "outputs": [],
   "source": [
    "from sklearn.feature_extraction.text import CountVectorizer"
   ]
  },
  {
   "cell_type": "code",
   "execution_count": 13,
   "id": "87f33792",
   "metadata": {
    "execution": {
     "iopub.execute_input": "2023-01-29T16:44:18.988004Z",
     "iopub.status.busy": "2023-01-29T16:44:18.987242Z",
     "iopub.status.idle": "2023-01-29T16:44:18.992119Z",
     "shell.execute_reply": "2023-01-29T16:44:18.990962Z"
    },
    "id": "77c5491c-7eb7-4985-bcb7-d36cdfd9c1f3",
    "papermill": {
     "duration": 0.018183,
     "end_time": "2023-01-29T16:44:18.994617",
     "exception": false,
     "start_time": "2023-01-29T16:44:18.976434",
     "status": "completed"
    },
    "tags": []
   },
   "outputs": [],
   "source": [
    "count_vec = CountVectorizer(max_features=1500)"
   ]
  },
  {
   "cell_type": "code",
   "execution_count": 14,
   "id": "a130943b",
   "metadata": {
    "execution": {
     "iopub.execute_input": "2023-01-29T16:44:19.015321Z",
     "iopub.status.busy": "2023-01-29T16:44:19.014903Z",
     "iopub.status.idle": "2023-01-29T16:44:19.041874Z",
     "shell.execute_reply": "2023-01-29T16:44:19.040818Z"
    },
    "id": "41ba7bbc-3981-4798-87ed-90e61853fc58",
    "papermill": {
     "duration": 0.04048,
     "end_time": "2023-01-29T16:44:19.044553",
     "exception": false,
     "start_time": "2023-01-29T16:44:19.004073",
     "status": "completed"
    },
    "tags": []
   },
   "outputs": [],
   "source": [
    "X = count_vec.fit_transform(corpus).toarray()\n",
    "y = datasets.iloc[:, 1].values"
   ]
  },
  {
   "cell_type": "code",
   "execution_count": 15,
   "id": "c10e1e2d",
   "metadata": {
    "execution": {
     "iopub.execute_input": "2023-01-29T16:44:19.064819Z",
     "iopub.status.busy": "2023-01-29T16:44:19.064437Z",
     "iopub.status.idle": "2023-01-29T16:44:19.069418Z",
     "shell.execute_reply": "2023-01-29T16:44:19.068243Z"
    },
    "id": "619c283b-2f0a-4b0d-9545-6d5683a8c89f",
    "papermill": {
     "duration": 0.017948,
     "end_time": "2023-01-29T16:44:19.071703",
     "exception": false,
     "start_time": "2023-01-29T16:44:19.053755",
     "status": "completed"
    },
    "tags": []
   },
   "outputs": [],
   "source": [
    "from sklearn.model_selection import train_test_split"
   ]
  },
  {
   "cell_type": "code",
   "execution_count": 16,
   "id": "f2fa102e",
   "metadata": {
    "execution": {
     "iopub.execute_input": "2023-01-29T16:44:19.092345Z",
     "iopub.status.busy": "2023-01-29T16:44:19.091228Z",
     "iopub.status.idle": "2023-01-29T16:44:19.105538Z",
     "shell.execute_reply": "2023-01-29T16:44:19.104526Z"
    },
    "id": "c2fca05f-cc12-46e7-b54d-b0b0e11367f4",
    "papermill": {
     "duration": 0.027118,
     "end_time": "2023-01-29T16:44:19.108002",
     "exception": false,
     "start_time": "2023-01-29T16:44:19.080884",
     "status": "completed"
    },
    "tags": []
   },
   "outputs": [],
   "source": [
    "X_train, X_test, y_train, y_test = train_test_split(X, y, test_size=0.2, random_state=0)"
   ]
  },
  {
   "cell_type": "code",
   "execution_count": 17,
   "id": "3d482795",
   "metadata": {
    "execution": {
     "iopub.execute_input": "2023-01-29T16:44:19.128447Z",
     "iopub.status.busy": "2023-01-29T16:44:19.128033Z",
     "iopub.status.idle": "2023-01-29T16:44:19.148470Z",
     "shell.execute_reply": "2023-01-29T16:44:19.147396Z"
    },
    "id": "0084cca3-7049-4841-9022-bceaf9457892",
    "outputId": "eebc9049-7d50-41e8-a1bf-cf9b8299bd89",
    "papermill": {
     "duration": 0.033605,
     "end_time": "2023-01-29T16:44:19.151026",
     "exception": false,
     "start_time": "2023-01-29T16:44:19.117421",
     "status": "completed"
    },
    "tags": []
   },
   "outputs": [
    {
     "data": {
      "text/plain": [
       "MultinomialNB()"
      ]
     },
     "execution_count": 17,
     "metadata": {},
     "output_type": "execute_result"
    }
   ],
   "source": [
    "from sklearn.naive_bayes import MultinomialNB\n",
    "nb = MultinomialNB()\n",
    "nb.fit(X_train, y_train)"
   ]
  },
  {
   "cell_type": "code",
   "execution_count": 18,
   "id": "7bf92fc2",
   "metadata": {
    "execution": {
     "iopub.execute_input": "2023-01-29T16:44:19.172060Z",
     "iopub.status.busy": "2023-01-29T16:44:19.171255Z",
     "iopub.status.idle": "2023-01-29T16:44:19.183557Z",
     "shell.execute_reply": "2023-01-29T16:44:19.182273Z"
    },
    "id": "44305a49-74ff-4488-9e50-5667a023bc9e",
    "papermill": {
     "duration": 0.027161,
     "end_time": "2023-01-29T16:44:19.187474",
     "exception": false,
     "start_time": "2023-01-29T16:44:19.160313",
     "status": "completed"
    },
    "tags": []
   },
   "outputs": [],
   "source": [
    "ypredict = nb.predict(X_test)"
   ]
  },
  {
   "cell_type": "code",
   "execution_count": 19,
   "id": "e6e007e2",
   "metadata": {
    "execution": {
     "iopub.execute_input": "2023-01-29T16:44:19.219421Z",
     "iopub.status.busy": "2023-01-29T16:44:19.218866Z",
     "iopub.status.idle": "2023-01-29T16:44:19.224754Z",
     "shell.execute_reply": "2023-01-29T16:44:19.223633Z"
    },
    "id": "ed0bed8b-594d-441e-8b07-2d1fdac88b4c",
    "papermill": {
     "duration": 0.024868,
     "end_time": "2023-01-29T16:44:19.227592",
     "exception": false,
     "start_time": "2023-01-29T16:44:19.202724",
     "status": "completed"
    },
    "tags": []
   },
   "outputs": [],
   "source": [
    "from sklearn.metrics import accuracy_score, precision_score, recall_score"
   ]
  },
  {
   "cell_type": "code",
   "execution_count": 20,
   "id": "6d291143",
   "metadata": {
    "execution": {
     "iopub.execute_input": "2023-01-29T16:44:19.258750Z",
     "iopub.status.busy": "2023-01-29T16:44:19.258212Z",
     "iopub.status.idle": "2023-01-29T16:44:19.265606Z",
     "shell.execute_reply": "2023-01-29T16:44:19.264382Z"
    },
    "id": "86a32144-7114-403f-8000-4bc6ddf89b94",
    "outputId": "1ab45092-32eb-4191-c286-47d72183f2fd",
    "papermill": {
     "duration": 0.026333,
     "end_time": "2023-01-29T16:44:19.268505",
     "exception": false,
     "start_time": "2023-01-29T16:44:19.242172",
     "status": "completed"
    },
    "tags": []
   },
   "outputs": [
    {
     "name": "stdout",
     "output_type": "stream",
     "text": [
      "0.765\n"
     ]
    }
   ],
   "source": [
    "print(accuracy_score(y_test, ypredict))"
   ]
  },
  {
   "cell_type": "code",
   "execution_count": 21,
   "id": "96d047d2",
   "metadata": {
    "execution": {
     "iopub.execute_input": "2023-01-29T16:44:19.299877Z",
     "iopub.status.busy": "2023-01-29T16:44:19.299354Z",
     "iopub.status.idle": "2023-01-29T16:44:19.307420Z",
     "shell.execute_reply": "2023-01-29T16:44:19.306226Z"
    },
    "id": "710c66b7-5224-4180-817e-5c5337f0736b",
    "outputId": "cdbc61d9-5ad4-4a13-a054-4d4748bc5b6a",
    "papermill": {
     "duration": 0.026701,
     "end_time": "2023-01-29T16:44:19.309755",
     "exception": false,
     "start_time": "2023-01-29T16:44:19.283054",
     "status": "completed"
    },
    "tags": []
   },
   "outputs": [
    {
     "name": "stdout",
     "output_type": "stream",
     "text": [
      "0.7641509433962265\n"
     ]
    }
   ],
   "source": [
    "print(precision_score(y_test, ypredict))"
   ]
  },
  {
   "cell_type": "code",
   "execution_count": 22,
   "id": "8ff4d8f3",
   "metadata": {
    "execution": {
     "iopub.execute_input": "2023-01-29T16:44:19.330778Z",
     "iopub.status.busy": "2023-01-29T16:44:19.329996Z",
     "iopub.status.idle": "2023-01-29T16:44:19.338282Z",
     "shell.execute_reply": "2023-01-29T16:44:19.336544Z"
    },
    "id": "877db20f-1077-4700-a752-2b010ec00fbd",
    "outputId": "391380b0-bd5a-4409-f4ef-922e8df4c9ed",
    "papermill": {
     "duration": 0.021536,
     "end_time": "2023-01-29T16:44:19.340645",
     "exception": false,
     "start_time": "2023-01-29T16:44:19.319109",
     "status": "completed"
    },
    "tags": []
   },
   "outputs": [
    {
     "name": "stdout",
     "output_type": "stream",
     "text": [
      "0.7864077669902912\n"
     ]
    }
   ],
   "source": [
    "print(recall_score(y_test, ypredict))"
   ]
  },
  {
   "cell_type": "code",
   "execution_count": 23,
   "id": "b4caf212",
   "metadata": {
    "execution": {
     "iopub.execute_input": "2023-01-29T16:44:19.361543Z",
     "iopub.status.busy": "2023-01-29T16:44:19.361161Z",
     "iopub.status.idle": "2023-01-29T16:44:19.369223Z",
     "shell.execute_reply": "2023-01-29T16:44:19.367729Z"
    },
    "id": "7de24a11-194b-4660-bfa1-9ee6b2038e90",
    "outputId": "a291b601-917c-43c7-c07f-1602b7b107ba",
    "papermill": {
     "duration": 0.021919,
     "end_time": "2023-01-29T16:44:19.372127",
     "exception": false,
     "start_time": "2023-01-29T16:44:19.350208",
     "status": "completed"
    },
    "tags": []
   },
   "outputs": [
    {
     "name": "stdout",
     "output_type": "stream",
     "text": [
      "0.764\n"
     ]
    }
   ],
   "source": [
    "print(round(precision_score(y_test, ypredict), 3))"
   ]
  },
  {
   "cell_type": "code",
   "execution_count": 24,
   "id": "870a3860",
   "metadata": {
    "execution": {
     "iopub.execute_input": "2023-01-29T16:44:19.394198Z",
     "iopub.status.busy": "2023-01-29T16:44:19.393193Z",
     "iopub.status.idle": "2023-01-29T16:44:19.398188Z",
     "shell.execute_reply": "2023-01-29T16:44:19.397229Z"
    },
    "id": "308f1aef-49a2-4fcb-ad92-ed671aa76aa4",
    "papermill": {
     "duration": 0.018161,
     "end_time": "2023-01-29T16:44:19.400335",
     "exception": false,
     "start_time": "2023-01-29T16:44:19.382174",
     "status": "completed"
    },
    "tags": []
   },
   "outputs": [],
   "source": [
    "from sklearn.metrics import confusion_matrix"
   ]
  },
  {
   "cell_type": "code",
   "execution_count": 25,
   "id": "e522ad62",
   "metadata": {
    "execution": {
     "iopub.execute_input": "2023-01-29T16:44:19.421837Z",
     "iopub.status.busy": "2023-01-29T16:44:19.420590Z",
     "iopub.status.idle": "2023-01-29T16:44:19.429506Z",
     "shell.execute_reply": "2023-01-29T16:44:19.428020Z"
    },
    "id": "dff5d803-fb29-476e-b0a5-e40e49a3277b",
    "papermill": {
     "duration": 0.022066,
     "end_time": "2023-01-29T16:44:19.431873",
     "exception": false,
     "start_time": "2023-01-29T16:44:19.409807",
     "status": "completed"
    },
    "tags": []
   },
   "outputs": [],
   "source": [
    "confusion_metric = confusion_matrix(y_test,ypredict)"
   ]
  },
  {
   "cell_type": "code",
   "execution_count": 26,
   "id": "40744a1c",
   "metadata": {
    "execution": {
     "iopub.execute_input": "2023-01-29T16:44:19.453266Z",
     "iopub.status.busy": "2023-01-29T16:44:19.452509Z",
     "iopub.status.idle": "2023-01-29T16:44:19.459446Z",
     "shell.execute_reply": "2023-01-29T16:44:19.458315Z"
    },
    "id": "778e676b-d159-4e79-86a3-f92f9650ab84",
    "outputId": "fdb24f6c-a088-4729-f621-a829f9ccadde",
    "papermill": {
     "duration": 0.020046,
     "end_time": "2023-01-29T16:44:19.461650",
     "exception": false,
     "start_time": "2023-01-29T16:44:19.441604",
     "status": "completed"
    },
    "tags": []
   },
   "outputs": [
    {
     "data": {
      "text/plain": [
       "array([[72, 25],\n",
       "       [22, 81]])"
      ]
     },
     "execution_count": 26,
     "metadata": {},
     "output_type": "execute_result"
    }
   ],
   "source": [
    "confusion_metric"
   ]
  },
  {
   "cell_type": "code",
   "execution_count": 27,
   "id": "35fd9529",
   "metadata": {
    "execution": {
     "iopub.execute_input": "2023-01-29T16:44:19.482370Z",
     "iopub.status.busy": "2023-01-29T16:44:19.481513Z",
     "iopub.status.idle": "2023-01-29T16:44:19.650041Z",
     "shell.execute_reply": "2023-01-29T16:44:19.648976Z"
    },
    "id": "a709ee60-a4a9-414f-9a27-31c0a8e76b72",
    "papermill": {
     "duration": 0.181522,
     "end_time": "2023-01-29T16:44:19.652593",
     "exception": false,
     "start_time": "2023-01-29T16:44:19.471071",
     "status": "completed"
    },
    "tags": []
   },
   "outputs": [],
   "source": [
    "import matplotlib.pyplot as plt\n",
    "import seaborn as sns\n",
    "%matplotlib inline"
   ]
  },
  {
   "cell_type": "code",
   "execution_count": 28,
   "id": "5aa22068",
   "metadata": {
    "execution": {
     "iopub.execute_input": "2023-01-29T16:44:19.673797Z",
     "iopub.status.busy": "2023-01-29T16:44:19.673387Z",
     "iopub.status.idle": "2023-01-29T16:44:19.936786Z",
     "shell.execute_reply": "2023-01-29T16:44:19.935488Z"
    },
    "id": "ded5df5f-116b-4734-82fb-f6a8f3f66bcc",
    "outputId": "a41f57c4-bdf7-4061-9d54-1e8c7be7082d",
    "papermill": {
     "duration": 0.276776,
     "end_time": "2023-01-29T16:44:19.939163",
     "exception": false,
     "start_time": "2023-01-29T16:44:19.662387",
     "status": "completed"
    },
    "tags": []
   },
   "outputs": [
    {
     "data": {
      "image/png": "[encoded data removed]",
      "text/plain": [
       "<Figure size 720x432 with 2 Axes>"
      ]
     },
     "metadata": {
      "needs_background": "light"
     },
     "output_type": "display_data"
    }
   ],
   "source": [
    "plt.figure(figsize=(10, 6))\n",
    "sns.heatmap(confusion_metric, annot = True, cmap = \"YlGnBu\",\n",
    "           xticklabels=[\"Neg\", \"Pos\"],\n",
    "           yticklabels=[\"Neg\", \"Pos\"])\n",
    "\n",
    "plt.xlabel(\"Predict Value\")\n",
    "plt.ylabel(\"Actual Value\")\n",
    "plt.show()"
   ]
  },
  {
   "cell_type": "code",
   "execution_count": 29,
   "id": "e43be69b",
   "metadata": {
    "execution": {
     "iopub.execute_input": "2023-01-29T16:44:19.961192Z",
     "iopub.status.busy": "2023-01-29T16:44:19.960648Z",
     "iopub.status.idle": "2023-01-29T16:44:20.143251Z",
     "shell.execute_reply": "2023-01-29T16:44:20.142006Z"
    },
    "id": "4be98431-df24-4480-9b08-33a28ec255a6",
    "outputId": "b434ece4-cf11-42f4-b3f5-51df83fe4bf4",
    "papermill": {
     "duration": 0.198808,
     "end_time": "2023-01-29T16:44:20.148132",
     "exception": false,
     "start_time": "2023-01-29T16:44:19.949324",
     "status": "completed"
    },
    "tags": []
   },
   "outputs": [
    {
     "name": "stdout",
     "output_type": "stream",
     "text": [
      "0.1 78.0\n",
      "0.2 78.5\n",
      "0.3 78.0\n",
      "0.4 78.0\n",
      "0.5 77.5\n",
      "0.6 77.5\n",
      "0.7 77.5\n",
      "0.8 77.0\n",
      "0.9 76.5\n",
      "1.0 76.5\n",
      "\n",
      "78.5 0.2\n"
     ]
    }
   ],
   "source": [
    "accuracy = 0.0\n",
    "alpha_value = 0.0\n",
    "\n",
    "for i in np.arange(0.1, 1.1, 0.1):\n",
    "    temp_class = MultinomialNB(alpha=i)\n",
    "    temp_class.fit(X_train, y_train)\n",
    "    temp_ypredict = temp_class.predict(X_test)\n",
    "    score = accuracy_score(y_test, temp_ypredict)\n",
    "    print(round(i, 1), round(score*100, 2))\n",
    "    \n",
    "    if score > accuracy:\n",
    "        accuracy = score\n",
    "        alpha_value = i\n",
    "        \n",
    "print()\n",
    "print(round(accuracy*100, 2), round(alpha_value, 1))"
   ]
  },
  {
   "cell_type": "code",
   "execution_count": 30,
   "id": "8c55f467",
   "metadata": {
    "execution": {
     "iopub.execute_input": "2023-01-29T16:44:20.184751Z",
     "iopub.status.busy": "2023-01-29T16:44:20.184200Z",
     "iopub.status.idle": "2023-01-29T16:44:20.215805Z",
     "shell.execute_reply": "2023-01-29T16:44:20.214573Z"
    },
    "id": "56ce19cc-0b7e-4c9c-b1ab-a8b8616f57f9",
    "outputId": "f91e49b7-d6c0-4912-d03a-ec7c527884ad",
    "papermill": {
     "duration": 0.053883,
     "end_time": "2023-01-29T16:44:20.219411",
     "exception": false,
     "start_time": "2023-01-29T16:44:20.165528",
     "status": "completed"
    },
    "tags": []
   },
   "outputs": [
    {
     "data": {
      "text/plain": [
       "MultinomialNB(alpha=0.2)"
      ]
     },
     "execution_count": 30,
     "metadata": {},
     "output_type": "execute_result"
    }
   ],
   "source": [
    "nb_class = MultinomialNB(alpha=0.2)\n",
    "nb_class.fit(X_train, y_train)"
   ]
  },
  {
   "cell_type": "code",
   "execution_count": 31,
   "id": "974d80a6",
   "metadata": {
    "execution": {
     "iopub.execute_input": "2023-01-29T16:44:20.255233Z",
     "iopub.status.busy": "2023-01-29T16:44:20.254676Z",
     "iopub.status.idle": "2023-01-29T16:44:20.263771Z",
     "shell.execute_reply": "2023-01-29T16:44:20.262875Z"
    },
    "id": "721d02a8-e3ca-4e7c-85f5-f8b2b22d57a2",
    "papermill": {
     "duration": 0.029033,
     "end_time": "2023-01-29T16:44:20.265803",
     "exception": false,
     "start_time": "2023-01-29T16:44:20.236770",
     "status": "completed"
    },
    "tags": []
   },
   "outputs": [],
   "source": [
    "def predict_rev(sample_review):\n",
    "    sample_review = re.sub(pattern='[^a-zA-Z]',repl  = \" \", string = sample_review)\n",
    "    \n",
    "    sample_review = sample_review.lower()\n",
    "    \n",
    "    review_words = sample_review.split()\n",
    "    review_words = [word for word in review_words if not word in set(stopwords.words(\"english\"))]\n",
    "    \n",
    "    ps = PorterStemmer()\n",
    "    review = [ps.stem(word) for word in review_words]\n",
    "    \n",
    "    review = ' '.join(review)\n",
    "    \n",
    "    temp = count_vec.transform([review]).toarray()\n",
    "    \n",
    "    return nb_class.predict(temp)"
   ]
  },
  {
   "cell_type": "code",
   "execution_count": 32,
   "id": "089edc49",
   "metadata": {
    "execution": {
     "iopub.execute_input": "2023-01-29T16:44:20.288096Z",
     "iopub.status.busy": "2023-01-29T16:44:20.287625Z",
     "iopub.status.idle": "2023-01-29T16:44:20.296012Z",
     "shell.execute_reply": "2023-01-29T16:44:20.294363Z"
    },
    "id": "4570aaf4-f7d7-4a1a-81c4-623825a51101",
    "outputId": "679d76d4-1e28-4fed-e23b-a94711ac4d41",
    "papermill": {
     "duration": 0.022791,
     "end_time": "2023-01-29T16:44:20.298788",
     "exception": false,
     "start_time": "2023-01-29T16:44:20.275997",
     "status": "completed"
    },
    "tags": []
   },
   "outputs": [
    {
     "name": "stdout",
     "output_type": "stream",
     "text": [
      "Pos review\n"
     ]
    }
   ],
   "source": [
    "sample_text = \"The food is really good\"\n",
    "\n",
    "if predict_rev(sample_text):\n",
    "    print(\"Pos review\")\n",
    "else:\n",
    "    print(\"Neg review\")"
   ]
  },
  {
   "cell_type": "code",
   "execution_count": 33,
   "id": "96388f93",
   "metadata": {
    "execution": {
     "iopub.execute_input": "2023-01-29T16:44:20.322133Z",
     "iopub.status.busy": "2023-01-29T16:44:20.321481Z",
     "iopub.status.idle": "2023-01-29T16:44:20.328687Z",
     "shell.execute_reply": "2023-01-29T16:44:20.327521Z"
    },
    "id": "f623727b-fcd9-4c26-a90f-86a12459b350",
    "outputId": "d7bd7fea-0fe1-416f-ef27-3d2770981d5a",
    "papermill": {
     "duration": 0.022112,
     "end_time": "2023-01-29T16:44:20.331638",
     "exception": false,
     "start_time": "2023-01-29T16:44:20.309526",
     "status": "completed"
    },
    "tags": []
   },
   "outputs": [
    {
     "name": "stdout",
     "output_type": "stream",
     "text": [
      "Neg review\n"
     ]
    }
   ],
   "source": [
    "sample_text = \"The food is really bad\"\n",
    "\n",
    "if predict_rev(sample_text):\n",
    "    print(\"Pos review\")\n",
    "else:\n",
    "    print(\"Neg review\")"
   ]
  },
  {
   "cell_type": "code",
   "execution_count": null,
   "id": "0be46a7d",
   "metadata": {
    "id": "4b1b4ea3-88ca-4041-a750-b6a5e7bdcb4b",
    "papermill": {
     "duration": 0.010255,
     "end_time": "2023-01-29T16:44:20.352726",
     "exception": false,
     "start_time": "2023-01-29T16:44:20.342471",
     "status": "completed"
    },
    "tags": []
   },
   "outputs": [],
   "source": []
  }
 ],
 "metadata": {
  "kernelspec": {
   "display_name": "Python 3",
   "language": "python",
   "name": "python3"
  },
  "language_info": {
   "codemirror_mode": {
    "name": "ipython",
    "version": 3
   },
   "file_extension": ".py",
   "mimetype": "text/x-python",
   "name": "python",
   "nbconvert_exporter": "python",
   "pygments_lexer": "ipython3",
   "version": "3.7.12"
  },
  "papermill": {
   "default_parameters": {},
   "duration": 14.463353,
   "end_time": "2023-01-29T16:44:21.184953",
   "environment_variables": {},
   "exception": null,
   "input_path": "__notebook__.ipynb",
   "output_path": "__notebook__.ipynb",
   "parameters": {},
   "start_time": "2023-01-29T16:44:06.721600",
   "version": "2.3.4"
  }
 },
 "nbformat": 4,
 "nbformat_minor": 5
}
